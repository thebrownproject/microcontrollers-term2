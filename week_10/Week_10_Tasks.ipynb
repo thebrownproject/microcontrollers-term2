{
 "cells": [
  {
   "cell_type": "markdown",
   "id": "f9a1a5e0-6348-496d-9737-694ced8b7ae9",
   "metadata": {},
   "source": [
    "# Week 10 Tasks"
   ]
  },
  {
   "cell_type": "markdown",
   "id": "6c815c05-74cc-459b-b895-e22a284cdccb",
   "metadata": {},
   "source": [
    "#### Configure your serial connection to your microcontroller. Use the following commands to establish a serial connection.\n",
    "##### Example\n",
    "#### For Windows\n",
    " %serialconnect to --port=COM3 --baud=115200\n",
    "#### For macOS\n",
    " %serialconnect to --port=/dev/tty.SLAB_USBtoUART --baud=115200"
   ]
  },
  {
   "cell_type": "code",
   "execution_count": null,
   "id": "9e439d92-a192-41b8-9623-e6e36925dfdc",
   "metadata": {},
   "outputs": [],
   "source": []
  },
  {
   "cell_type": "markdown",
   "id": "f73e002d-62b3-4700-b549-3b97ced36046",
   "metadata": {},
   "source": [
    "## Task 1: Automatic Street Lighting System\n",
    "#### Photoresistor (LDR)\n",
    "A photoresistor, also known as a Light Dependent Resistor (LDR), is a sensor that changes its resistance based on the amount of light falling on it. When light increases, its resistance decreases. When it’s dark, the resistance increases.\n",
    "\n",
    "##### Example (Read the value of LDR)\n",
    "    from machine import Pin, ADC\n",
    "    from time import sleep\n",
    "     \n",
    "    ldr = ADC(Pin(27))\n",
    "     \n",
    "    While True:\n",
    "         print(f\" LDR Value is : {ldr.read_u16()}\")\n",
    "         sleep(1)\n",
    "     \n",
    "### Scenario: \"Smart Streetlights for Energy-Efficient Cities\"\n",
    "You are part of a team working with the local council on a smart city initiative. The council wants to reduce power consumption by ensuring that streetlights only turn on when it is dark and switch off during the day automatically. Your task is to create a prototype using a Raspberry Pi Pico, a photoresistor (LDR), and an LED to simulate how these smart lights could work in the real world.\n",
    "\n",
    "The goal is to prove that the system can detect the ambient light level and automatically switch the LED streetlight on and off based on brightness, saving power and reducing light pollution.\n",
    "### Hardware Requirements\n",
    "1. Breadboard\n",
    "2. Photoresistor (LDR)\n",
    "3. LED light\n",
    "4. Pi Pico\n",
    "5. Jumper wires\n",
    "\n",
    "#### Resources:\n",
    "##### Analog to Digital Conversion\n",
    "https://docs.micropython.org/en/latest/esp8266/tutorial/adc.html\n",
    "##### Python String Formatting \n",
    "https://www.w3schools.com/python/python_string_formatting.asp\n"
   ]
  },
  {
   "cell_type": "code",
   "execution_count": null,
   "id": "e284a035",
   "metadata": {
    "vscode": {
     "languageId": "plaintext"
    }
   },
   "outputs": [],
   "source": []
  },
  {
   "cell_type": "code",
   "execution_count": null,
   "id": "2e2b81a4-699b-4b6e-9336-3734d06326e4",
   "metadata": {},
   "outputs": [],
   "source": []
  },
  {
   "cell_type": "markdown",
   "id": "e1ebbc46-499a-4e2a-b97d-ebb2ef214888",
   "metadata": {},
   "source": [
    "## Task 2: Smart Room Lighting System \n",
    "### Scenario: \"Smart Living Spaces for Energy Efficiency\"\n",
    "\n",
    "You are working as a smart home technician for a company that designs automated home solutions. One of your tasks is to build a prototype that automatically adjusts the brightness of room lights based on the natural sunlight entering the room.\n",
    "\n",
    "Using a photoresistor and PWM-controlled LED, you’ll build a system that dims or brightens the LED light based on the room’s light level, reducing energy waste and improving user comfort.\n",
    " \n",
    "### Hardware Requirements\n",
    "1. Breadboard\n",
    "2. Photoresistor (LDR)\n",
    "3. LED light\n",
    "4. Pi Pico\n",
    "5. Jumper wires\n",
    "\n",
    "#### Resources:\n",
    "##### Analog to Digital Conversion\n",
    "https://docs.micropython.org/en/latest/esp8266/tutorial/adc.html\n",
    "##### Pulse Width Modulation \n",
    "https://docs.micropython.org/en/latest/esp8266/tutorial/pwm.html"
   ]
  },
  {
   "cell_type": "code",
   "execution_count": null,
   "id": "9e57c973-687f-48e8-81dd-30fba8edfd6f",
   "metadata": {},
   "outputs": [],
   "source": []
  },
  {
   "cell_type": "markdown",
   "id": "60f9058e-ef05-41c7-8764-1694db692f1d",
   "metadata": {},
   "source": [
    "## Task3: Interactive Ambient Mood Lamp\n",
    "### Scenario Title: \"Smart Mood Lighting for Modern Living\"\n",
    "\n",
    "You work for a tech startup specializing in smart home devices. Your team is tasked with designing an ambient mood lamp that automatically adjusts its colour temperature and brightness depending on room lighting. The light should glow in cool colours (like blue/white) when the room is bright, and warm, dimmer tones (like orange/red) when it's dark, creating the perfect mood without user interaction. \n",
    "### Hardware Requirements\n",
    "1. Breadboard\n",
    "2. Photoresistor\n",
    "3. RGB light\n",
    "4. Pi Pico\n",
    "5. Jumper wires\n",
    "\n",
    "#### Resources:\n",
    "##### Analog to Digital Conversion\n",
    "https://docs.micropython.org/en/latest/esp8266/tutorial/adc.html\n",
    "##### Pulse Width Modulation \n",
    "https://docs.micropython.org/en/latest/esp8266/tutorial/pwm.html\n",
    "##### Python For Loops\n",
    "https://www.w3schools.com/python/python_for_loops.asp\n",
    "##### Python While Loops\n",
    "https://www.w3schools.com/python/python_while_loops.asp\n",
    "##### Python Conditions and If Statements\n",
    "https://www.w3schools.com/python/python_conditions.asp"
   ]
  },
  {
   "cell_type": "code",
   "execution_count": null,
   "id": "36ea3a9c-5063-454d-9210-464842cb0e49",
   "metadata": {},
   "outputs": [],
   "source": []
  },
  {
   "cell_type": "markdown",
   "id": "fb0957dc-330d-4c30-838d-5cc690279107",
   "metadata": {},
   "source": [
    "## Task 4: Energy-Saving Hallway Lighting System\n",
    "#### Passive Infrared (PIR) Sensor\n",
    "A PIR (Passive Infrared) sensor is a low‑power motion detector that “listens” for changes in the infrared energy emitted by warm objects in its field of view. Behind its Fresnel‑lens cover sits a pyroelectric element that generates tiny charges when its temperature changes; as a person or animal moves between the lens’s segmented zones, the IR level spikes and drops. These pulses are amplified and converted into a simple digital output—HIGH when motion is detected, LOW otherwise—making PIR modules ideal for security alarms, automatic lighting, and occupancy sensing.\n",
    "\n",
    "### Scenario: \"Smart Corridor Lighting in Eco-Buildings\"\n",
    "\n",
    "A sustainable building company has hired you to help develop smart lighting systems that automatically illuminate hallways only when someone passes through. This system should detect motion using a PIR sensor, turn on an LED light, and automatically turn it off after a few seconds.\n",
    "\n",
    "Your prototype will help demonstrate how such systems can reduce electricity usage and extend bulb lifespan in schools, office buildings, and apartment corridors.\n",
    "\n",
    "### Hardware Requirements\n",
    "1. Breadboard\n",
    "2. PIR\n",
    "3. LED Light\n",
    "4. Pi Pico\n",
    "5. Jumper wires\n",
    "\n",
    "\n",
    "#### Resources:\n",
    "\n",
    "##### Python While Loops\n",
    "https://www.w3schools.com/python/python_while_loops.asp\n",
    "##### Python Conditions and If Statements\n",
    "https://www.w3schools.com/python/python_conditions.asp"
   ]
  },
  {
   "cell_type": "code",
   "execution_count": null,
   "id": "4f21cc5c-417d-40ee-9caa-366de7b8c7f4",
   "metadata": {},
   "outputs": [],
   "source": []
  },
  {
   "cell_type": "markdown",
   "id": "d8c9b9cc-c9b0-4375-b732-e92cafbf9eeb",
   "metadata": {},
   "source": [
    "## Task 5: Motion-Activated Security Alarm\n",
    "### Scenario: \"Home Security on a Budget\"\n",
    "You’re working with a local security company to design a cost-effective intruder alarm system for small businesses and homes. The system must detect motion, sound an alarm, and display a visual alert (flashing LED), then reset itself to detect motion again.\n",
    "\n",
    "### Hardware Requirements\n",
    "1. Breadboard\n",
    "2. PIR\n",
    "3. LED Light\n",
    "4. Passive Buzzer\n",
    "5. Pi Pico\n",
    "6. Jumper wires\n",
    "\n",
    "\n",
    "#### Resources:\n",
    "\n",
    "##### Python While Loops\n",
    "https://www.w3schools.com/python/python_while_loops.asp\n",
    "##### Python Conditions and If Statements\n",
    "https://www.w3schools.com/python/python_conditions.asp\n",
    "##### Pulse Width Modulation¶\n",
    "https://docs.micropython.org/en/latest/esp8266/tutorial/pwm.html"
   ]
  },
  {
   "cell_type": "code",
   "execution_count": null,
   "id": "6754db5b-faad-4259-9ab1-1de0fd998cb3",
   "metadata": {},
   "outputs": [],
   "source": []
  }
 ],
 "metadata": {
  "kernelspec": {
   "display_name": "MicroPython - USB",
   "language": "micropython",
   "name": "micropython"
  },
  "language_info": {
   "codemirror_mode": "python",
   "file_extension": ".py",
   "mimetype": "text/python",
   "name": "micropython"
  }
 },
 "nbformat": 4,
 "nbformat_minor": 5
}
